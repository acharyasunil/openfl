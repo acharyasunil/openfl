{
 "cells": [
  {
   "cell_type": "markdown",
   "id": "6705776d-d264-493d-9696-7623231e558a",
   "metadata": {},
   "source": [
    "# FLAX Convolution Neural Network Example - Interactive API"
   ]
  },
  {
   "cell_type": "markdown",
   "id": "de0fb48a-e902-4c5a-a7b7-39728f845707",
   "metadata": {},
   "source": [
    "Run this jupyter notebook on a virtual environment."
   ]
  },
  {
   "cell_type": "code",
   "execution_count": 1,
   "id": "42945f9c-081f-48a0-871c-d0c0f6b4103d",
   "metadata": {},
   "outputs": [],
   "source": [
    "import os\n",
    "os.environ['TF_FORCE_GPU_ALLOW_GROWTH'] = 'true'"
   ]
  },
  {
   "cell_type": "code",
   "execution_count": 1,
   "id": "3c195d51-2499-4a00-9bee-97dc5f79d426",
   "metadata": {},
   "outputs": [],
   "source": [
    "# !pip install --upgrade -q \"jax[cuda11_cudnn805]\" -f https://storage.googleapis.com/jax-releases/jax_cuda_releases.html\n",
    "# !pip install --upgrade -q git+https://github.com/google/flax.git"
   ]
  },
  {
   "cell_type": "code",
   "execution_count": 2,
   "id": "cd66b4cd-03c2-4dc6-9113-0c3fc309e5db",
   "metadata": {},
   "outputs": [],
   "source": [
    "# !pip install flax==0.4.1 ml_collections optax jax==0.3.13 -q\n",
    "# # jaxlib==0.3.10 -q"
   ]
  },
  {
   "cell_type": "markdown",
   "id": "8b95eeb4-9a6b-401d-9d35-2deaa4b51860",
   "metadata": {},
   "source": [
    "GPU version of JAX. Pick the jax version compatible with the CUDA and cuDNN pre-installed."
   ]
  },
  {
   "cell_type": "code",
   "execution_count": 3,
   "id": "1e0e9cff-71f9-4710-87ae-cc5c37925008",
   "metadata": {},
   "outputs": [],
   "source": [
    "# !pip install --upgrade pip # Careful with the pip upgrade, it may cause a package dependency related problems during OpenFL workflow execution.\n",
    "\n",
    "# Installs the wheel compatible with CUDA 11 and cuDNN 8.2 or newer.\n",
    "# Note: wheels only available on linux.\n",
    "# !pip install -U jaxlib==0.3.10+cuda11.cudnn82 -f https://storage.googleapis.com/jax-releases/jax_cuda_releases.html\n",
    "\n",
    "# Installs the wheel compatible with Cuda >= 11.4 and cudnn >= 8.2\n",
    "# !pip install -U jax[cuda11_cudnn82] -f https://storage.googleapis.com/jax-releases/jax_cuda_releases.html\n",
    "\n",
    "# Installs the wheel compatible with Cuda >= 11.1 and cudnn >= 8.0.5\n",
    "# !pip install \"jax[cuda11_cudnn805]\" -f https://storage.googleapis.com/jax-releases/jax_releases.html"
   ]
  },
  {
   "cell_type": "code",
   "execution_count": 4,
   "id": "0b3fcc5b-ee99-4ea8-95e8-6ce08db00809",
   "metadata": {},
   "outputs": [
    {
     "name": "stdout",
     "output_type": "stream",
     "text": [
      "env: XLA_PYTHON_CLIENT_MEM_FRACTION=.8\n"
     ]
    }
   ],
   "source": [
    "# Without either of the below flags, JAX XLA raised CUDA_OUT_OF_MEMORY exception.\n",
    "# JAX XLA pre-allocates 90% of the GPU at start\n",
    "\n",
    "# Below flag to restrict max GPU allocation to 80%\n",
    "# %env XLA_PYTHON_CLIENT_MEM_FRACTION=.8\n",
    "\n",
    "# OR\n",
    "\n",
    "# set XLA_PYTHON_CLIENT_PREALLOCATE to false to incrementally allocate GPU memory as and when required. But can take entire GPU by the end.\n",
    "# %env XLA_PYTHON_CLIENT_PREALLOCATE=false\n"
   ]
  },
  {
   "cell_type": "code",
   "execution_count": 5,
   "id": "c768ad39-ba4e-4a2c-a7b4-dbbc3ac729a3",
   "metadata": {},
   "outputs": [],
   "source": [
    "# %pip install tensorflow==2.8.1\n"
   ]
  },
  {
   "cell_type": "code",
   "execution_count": 6,
   "id": "9c168bf1-3b4b-4745-bfd2-ee232e6776cd",
   "metadata": {},
   "outputs": [],
   "source": [
    "# %pip install tensorflow_datasets ml_collections\n"
   ]
  },
  {
   "cell_type": "code",
   "execution_count": 2,
   "id": "3ba6fd71-e66e-4103-a76d-51ed591fc65a",
   "metadata": {},
   "outputs": [
    {
     "data": {
      "text/plain": [
       "{'SHELL': '/bin/bash',\n",
       " 'COLORTERM': 'truecolor',\n",
       " 'no_proxy': 'localhost,127.0.0.0/8,10.0.0.0/8,.intel.com',\n",
       " 'TERM_PROGRAM_VERSION': '1.69.2',\n",
       " 'LANGUAGE': 'en_IN:en',\n",
       " 'PWD': '/home/sunilach/openfl/forked-intel-openfl/openfl-tutorials/interactive_api/Flax_CNN_CIFAR/workspace',\n",
       " 'LOGNAME': 'sunilach',\n",
       " 'XDG_SESSION_TYPE': 'tty',\n",
       " 'ftp_proxy': 'ftp://proxy.iind.intel.com:1080/',\n",
       " 'MOTD_SHOWN': 'pam',\n",
       " 'HOME': '/home/sunilach',\n",
       " 'LANG': 'en_US.UTF-8',\n",
       " 'LS_COLORS': 'rs=0:di=01;34:ln=01;36:mh=00:pi=40;33:so=01;35:do=01;35:bd=40;33;01:cd=40;33;01:or=40;31;01:mi=00:su=37;41:sg=30;43:ca=30;41:tw=30;42:ow=34;42:st=37;44:ex=01;32:*.tar=01;31:*.tgz=01;31:*.arc=01;31:*.arj=01;31:*.taz=01;31:*.lha=01;31:*.lz4=01;31:*.lzh=01;31:*.lzma=01;31:*.tlz=01;31:*.txz=01;31:*.tzo=01;31:*.t7z=01;31:*.zip=01;31:*.z=01;31:*.dz=01;31:*.gz=01;31:*.lrz=01;31:*.lz=01;31:*.lzo=01;31:*.xz=01;31:*.zst=01;31:*.tzst=01;31:*.bz2=01;31:*.bz=01;31:*.tbz=01;31:*.tbz2=01;31:*.tz=01;31:*.deb=01;31:*.rpm=01;31:*.jar=01;31:*.war=01;31:*.ear=01;31:*.sar=01;31:*.rar=01;31:*.alz=01;31:*.ace=01;31:*.zoo=01;31:*.cpio=01;31:*.7z=01;31:*.rz=01;31:*.cab=01;31:*.wim=01;31:*.swm=01;31:*.dwm=01;31:*.esd=01;31:*.jpg=01;35:*.jpeg=01;35:*.mjpg=01;35:*.mjpeg=01;35:*.gif=01;35:*.bmp=01;35:*.pbm=01;35:*.pgm=01;35:*.ppm=01;35:*.tga=01;35:*.xbm=01;35:*.xpm=01;35:*.tif=01;35:*.tiff=01;35:*.png=01;35:*.svg=01;35:*.svgz=01;35:*.mng=01;35:*.pcx=01;35:*.mov=01;35:*.mpg=01;35:*.mpeg=01;35:*.m2v=01;35:*.mkv=01;35:*.webm=01;35:*.ogm=01;35:*.mp4=01;35:*.m4v=01;35:*.mp4v=01;35:*.vob=01;35:*.qt=01;35:*.nuv=01;35:*.wmv=01;35:*.asf=01;35:*.rm=01;35:*.rmvb=01;35:*.flc=01;35:*.avi=01;35:*.fli=01;35:*.flv=01;35:*.gl=01;35:*.dl=01;35:*.xcf=01;35:*.xwd=01;35:*.yuv=01;35:*.cgm=01;35:*.emf=01;35:*.ogv=01;35:*.ogx=01;35:*.aac=00;36:*.au=00;36:*.flac=00;36:*.m4a=00;36:*.mid=00;36:*.midi=00;36:*.mka=00;36:*.mp3=00;36:*.mpc=00;36:*.ogg=00;36:*.ra=00;36:*.wav=00;36:*.oga=00;36:*.opus=00;36:*.spx=00;36:*.xspf=00;36:',\n",
       " 'VIRTUAL_ENV': '/home/sunilach/openflenv',\n",
       " 'https_proxy': 'http://proxy-us.intel.com:911',\n",
       " 'SSH_CONNECTION': '10.213.75.6 59927 10.106.37.52 22',\n",
       " 'socks_proxy': 'socks://proxy.jf.intel.com:1080/',\n",
       " 'LESSCLOSE': '/usr/bin/lesspipe %s %s',\n",
       " 'XDG_SESSION_CLASS': 'user',\n",
       " 'TERM': 'xterm-color',\n",
       " 'LESSOPEN': '| /usr/bin/lesspipe %s',\n",
       " 'USER': 'sunilach',\n",
       " 'VSCODE_GIT_IPC_HANDLE': '/run/user/1004/vscode-git-4d9cc468c6.sock',\n",
       " 'SHLVL': '1',\n",
       " 'XDG_SESSION_ID': '2',\n",
       " 'http_proxy': 'http://proxy-us.intel.com:911',\n",
       " 'LD_LIBRARY_PATH': '/usr/local/cuda/lib64:/usr/local/cuda/lib64',\n",
       " 'XDG_RUNTIME_DIR': '/run/user/1004',\n",
       " 'PS1': '(openflenv) ${debian_chroot:+($debian_chroot)}\\\\[\\\\033[01;32m\\\\]\\\\u@\\\\h\\\\[\\\\033[00m\\\\]:\\\\[\\\\033[01;34m\\\\]\\\\w\\\\[\\\\033[01;31m\\\\]$(parse_git_branch)\\\\[\\\\033[00m\\\\]\\\\$ ',\n",
       " 'SSH_CLIENT': '10.213.75.6 59927 22',\n",
       " 'XDG_DATA_DIRS': '/usr/local/share:/usr/share:/var/lib/snapd/desktop',\n",
       " 'BROWSER': '/home/sunilach/.vscode-server/bin/3b889b090b5ad5793f524b5d1d39fda662b96a2a/bin/helpers/browser.sh',\n",
       " 'PATH': '/home/sunilach/openflenv/bin:/usr/local/cuda/bin:/home/sunilach/.vscode-server/bin/3b889b090b5ad5793f524b5d1d39fda662b96a2a/bin/remote-cli:/home/sunilach/.local/bin:/usr/local/cuda/bin:/usr/local/sbin:/usr/local/bin:/usr/sbin:/usr/bin:/sbin:/bin:/usr/games:/usr/local/games:/snap/bin$$',\n",
       " 'DBUS_SESSION_BUS_ADDRESS': 'unix:path=/run/user/1004/bus',\n",
       " 'TERM_PROGRAM': 'vscode',\n",
       " 'VSCODE_IPC_HOOK_CLI': '/run/user/1004/vscode-ipc-83e6a249-695b-4479-ac65-d013d3c12845.sock',\n",
       " 'OLDPWD': '/home/sunilach/openfl/forked-intel-openfl/openfl-tutorials/interactive_api/Flax_CNN_CIFAR',\n",
       " '_': '/home/sunilach/openflenv/bin/jupyter',\n",
       " 'JPY_PARENT_PID': '29202',\n",
       " 'CLICOLOR': '1',\n",
       " 'PAGER': 'cat',\n",
       " 'GIT_PAGER': 'cat',\n",
       " 'MPLBACKEND': 'module://matplotlib_inline.backend_inline',\n",
       " 'TF_FORCE_GPU_ALLOW_GROWTH': 'true'}"
      ]
     },
     "execution_count": 2,
     "metadata": {},
     "output_type": "execute_result"
    }
   ],
   "source": [
    "# %env"
   ]
  },
  {
   "cell_type": "code",
   "execution_count": 2,
   "id": "9008000e-fe07-4ff5-91cf-facb2decc560",
   "metadata": {},
   "outputs": [
    {
     "name": "stderr",
     "output_type": "stream",
     "text": [
      "/home/sunilach/openflenv/lib/python3.8/site-packages/chex/_src/pytypes.py:37: FutureWarning: jax.tree_structure is deprecated, and will be removed in a future release. Use jax.tree_util.tree_structure instead.\n",
      "  PyTreeDef = type(jax.tree_structure(None))\n",
      "/home/sunilach/openflenv/lib/python3.8/site-packages/tqdm/auto.py:22: TqdmWarning: IProgress not found. Please update jupyter and ipywidgets. See https://ipywidgets.readthedocs.io/en/stable/user_install.html\n",
      "  from .autonotebook import tqdm as notebook_tqdm\n"
     ]
    }
   ],
   "source": [
    "from flax import linen as nn\n",
    "from flax.metrics import tensorboard\n",
    "from flax.training import train_state\n",
    "import jax\n",
    "import jax.numpy as jnp\n",
    "import ml_collections\n",
    "import optax\n",
    "import tensorflow_datasets as tfds\n",
    "import logging"
   ]
  },
  {
   "cell_type": "code",
   "execution_count": 4,
   "id": "a1d505d6-fe2d-4a75-844a-6b1ca0280ba1",
   "metadata": {
    "jupyter": {
     "source_hidden": true
    }
   },
   "outputs": [],
   "source": [
    "# editor_relpaths = ('configs/default.py', 'train.py')"
   ]
  },
  {
   "cell_type": "code",
   "execution_count": 5,
   "id": "9cca4d46-dc93-4897-b477-a22b042d1fc5",
   "metadata": {
    "jupyter": {
     "source_hidden": true
    }
   },
   "outputs": [],
   "source": [
    "# @jax.jit\n",
    "# def apply_model(state, images, labels):\n",
    "#     \"\"\"Computes gradients, loss and accuracy for a single batch.\"\"\"\n",
    "\n",
    "#     def loss_fn(params):\n",
    "#         logits = state.apply_fn({'params': params}, images)\n",
    "#         one_hot = jax.nn.one_hot(labels, 10)\n",
    "#         loss = jnp.mean(optax.softmax_cross_entropy(logits=logits, labels=one_hot))\n",
    "#         return loss, logits\n",
    "\n",
    "#     grad_fn = jax.value_and_grad(loss_fn, has_aux=True)\n",
    "#     (loss, logits), grads = grad_fn(state.params)\n",
    "#     accuracy = jnp.mean(jnp.argmax(logits, -1) == labels)\n",
    "#     return grads, loss, accuracy\n",
    "\n",
    "\n",
    "# @jax.jit\n",
    "# def update_model(state, grads):\n",
    "#     return state.apply_gradients(grads=grads)"
   ]
  },
  {
   "cell_type": "code",
   "execution_count": 6,
   "id": "9693c2c0-1330-4df9-bbf8-3beaf0cc14db",
   "metadata": {
    "jupyter": {
     "source_hidden": true
    }
   },
   "outputs": [],
   "source": [
    "# def train_epoch(state, train_ds, batch_size, rng):\n",
    "#     \"\"\"Train for a single epoch.\"\"\"\n",
    "#     train_ds_size = len(train_ds['image'])\n",
    "#     steps_per_epoch = train_ds_size // batch_size\n",
    "\n",
    "#     perms = jax.random.permutation(rng, len(train_ds['image']))\n",
    "#     perms = perms[:steps_per_epoch * batch_size]  # skip incomplete batch\n",
    "#     perms = perms.reshape((steps_per_epoch, batch_size))\n",
    "\n",
    "#     epoch_loss = []\n",
    "#     epoch_accuracy = []\n",
    "\n",
    "#     for perm in perms:\n",
    "#         batch_images = train_ds['image'][perm, ...]\n",
    "#         batch_labels = train_ds['label'][perm, ...]\n",
    "#         grads, loss, accuracy = apply_model(state, batch_images, batch_labels)\n",
    "#         state = update_model(state, grads)\n",
    "#         epoch_loss.append(loss)\n",
    "#         epoch_accuracy.append(accuracy)\n",
    "        \n",
    "#     train_loss = np.mean(epoch_loss)\n",
    "#     train_accuracy = np.mean(epoch_accuracy)\n",
    "#     return state, train_loss, train_accuracy"
   ]
  },
  {
   "cell_type": "code",
   "execution_count": 7,
   "id": "be6e705b-80e3-454d-bd35-8294e201c36b",
   "metadata": {
    "jupyter": {
     "source_hidden": true
    }
   },
   "outputs": [],
   "source": [
    "# def train_and_evaluate(config: ml_collections.ConfigDict,\n",
    "#                        workdir: str) -> train_state.TrainState:\n",
    "#     \"\"\"Execute model training and evaluation loop.\n",
    "#     Args:\n",
    "#         config: Hyperparameter configuration for training and evaluation.\n",
    "#         workdir: Directory where the tensorboard summaries are written to.\n",
    "#     Returns:\n",
    "#         The train state (which includes the `.params`).\n",
    "#     \"\"\"\n",
    "    \n",
    "#     train_ds, test_ds = get_datasets()\n",
    "#     rng = jax.random.PRNGKey(0)\n",
    "\n",
    "#     summary_writer = tensorboard.SummaryWriter(workdir)\n",
    "#     summary_writer.hparams(dict(config))\n",
    "\n",
    "#     rng, init_rng = jax.random.split(rng)\n",
    "#     state = create_train_state(init_rng, config)\n",
    "\n",
    "#     for epoch in range(1, config.num_epochs + 1):\n",
    "#         rng, input_rng = jax.random.split(rng)\n",
    "#         state, train_loss, train_accuracy = train_epoch(state, train_ds,\n",
    "#                                                         config.batch_size,\n",
    "#                                                         input_rng)\n",
    "#         _, test_loss, test_accuracy = apply_model(state, test_ds['image'],\n",
    "#                                                   test_ds['label'])\n",
    "\n",
    "#         logging.info(\n",
    "#             'epoch:% 3d, train_loss: %.4f, train_accuracy: %.2f, test_loss: %.4f, test_accuracy: %.2f'\n",
    "#             % (epoch, train_loss, train_accuracy * 100, test_loss,\n",
    "#                test_accuracy * 100))\n",
    "\n",
    "#         summary_writer.scalar('train_loss', train_loss, epoch)\n",
    "#         summary_writer.scalar('train_accuracy', train_accuracy, epoch)\n",
    "#         summary_writer.scalar('test_loss', test_loss, epoch)\n",
    "#         summary_writer.scalar('test_accuracy', test_accuracy, epoch)\n",
    "\n",
    "#     summary_writer.flush()\n",
    "#     return state"
   ]
  },
  {
   "cell_type": "code",
   "execution_count": 8,
   "id": "9a16194e-aba4-41a9-ad51-903beef9fdd8",
   "metadata": {
    "jupyter": {
     "source_hidden": true
    }
   },
   "outputs": [],
   "source": [
    "# #Using jit decorator for GPU acceleration for entire function\n",
    "# @jax.jit\n",
    "# def train_step(optimizer, batch):\n",
    "#     def loss_fn(model):\n",
    "#         preds = model(batch['image'])\n",
    "#         loss = cross_entropy_loss(preds, batch['label'])\n",
    "#         return loss, preds\n",
    "#     grad_fn = jax.value_and_grad(loss_fn, has_aux=True)\n",
    "#     (_, preds), grad = grad_fn(optimizer.target)\n",
    "#     optimizer = optimizer.apply_gradient(grad)\n",
    "#     return optimizer\n",
    "\n",
    "# @jax.jit\n",
    "# def eval_step(model, batch):\n",
    "#     preds = model(batch['image'])\n",
    "#     return compute_metrics(preds, batch['label'])\n",
    "\n",
    "# def eval_model(model, test_ds):\n",
    "#     metrics = eval_step(model, test_ds)\n",
    "#     metrics = jax.device_get(metrics)\n",
    "#     summary = jax.tree_map(lambda x: x.item(), metrics)\n",
    "#     return summary['loss'], summary['accuracy']"
   ]
  },
  {
   "cell_type": "code",
   "execution_count": 9,
   "id": "fd998361-e903-4418-871f-d860f4f8fd4a",
   "metadata": {
    "jupyter": {
     "source_hidden": true
    }
   },
   "outputs": [],
   "source": [
    "# def get_datasets():\n",
    "#     \"\"\"Load MNIST train and test datasets into memory.\"\"\"\n",
    "#     ds_builder = tfds.builder('cifar10')\n",
    "#     ds_builder.download_and_prepare()\n",
    "#     train_ds = tfds.as_numpy(ds_builder.as_dataset(split='train', batch_size=-1))\n",
    "#     test_ds = tfds.as_numpy(ds_builder.as_dataset(split='test', batch_size=-1))\n",
    "#     train_ds['image'] = jnp.float32(train_ds['image']) / 255.\n",
    "#     test_ds['image'] = jnp.float32(test_ds['image']) / 255.\n",
    "#     return train_ds, test_ds"
   ]
  },
  {
   "cell_type": "code",
   "execution_count": 10,
   "id": "050bd26f-297f-41e0-a44d-df7b899fade1",
   "metadata": {
    "jupyter": {
     "source_hidden": true
    }
   },
   "outputs": [],
   "source": [
    "# def create_train_state(rng, config):\n",
    "#     \"\"\"Creates initial `TrainState`.\"\"\"\n",
    "#     cnn = CNN()\n",
    "#     params = cnn.init(rng, jnp.ones([1, 28, 28, 3]))['params']\n",
    "#     tx = optax.sgd(config.learning_rate, config.momentum)\n",
    "#     return train_state.TrainState.create(\n",
    "#       apply_fn=cnn.apply, params=params, tx=tx)"
   ]
  },
  {
   "cell_type": "code",
   "execution_count": 11,
   "id": "328e9b73-7b9e-4320-835e-99b3a70c765b",
   "metadata": {
    "jupyter": {
     "source_hidden": true
    }
   },
   "outputs": [],
   "source": [
    "# class CNN(nn.Module):\n",
    "#     \"\"\"A simple CNN model.\"\"\"\n",
    "    \n",
    "#     @nn.compact\n",
    "#     def __call__(self, x):\n",
    "#         x = nn.Conv(features=32, kernel_size=(3, 3))(x)\n",
    "#         x = nn.relu(x)\n",
    "#         x = nn.avg_pool(x, window_shape=(2, 2), strides=(2, 2))\n",
    "#         x = nn.Conv(features=64, kernel_size=(3, 3))(x)\n",
    "#         x = nn.relu(x)\n",
    "#         x = nn.avg_pool(x, window_shape=(2, 2), strides=(2, 2))\n",
    "#         x = x.reshape((x.shape[0], -1))  # flatten\n",
    "#         x = nn.Dense(features=256)(x)\n",
    "#         x = nn.relu(x)\n",
    "#         x = nn.Dense(features=10)(x)\n",
    "#         return x"
   ]
  },
  {
   "cell_type": "code",
   "execution_count": 12,
   "id": "4e0e8f34-7c8b-4ceb-9e5e-c2baa1b4fb23",
   "metadata": {
    "jupyter": {
     "source_hidden": true
    }
   },
   "outputs": [
    {
     "name": "stderr",
     "output_type": "stream",
     "text": [
      "2022-08-03 02:45:28.970445: W tensorflow/core/common_runtime/gpu/gpu_bfc_allocator.cc:42] Overriding orig_value setting because the TF_FORCE_GPU_ALLOW_GROWTH environment variable is set. Original config value was 0.\n"
     ]
    }
   ],
   "source": [
    "# train_ds, test_ds = get_datasets()"
   ]
  },
  {
   "cell_type": "code",
   "execution_count": 13,
   "id": "8014ac96-2327-4a77-8bb8-c9cecd27dadb",
   "metadata": {
    "jupyter": {
     "source_hidden": true
    }
   },
   "outputs": [],
   "source": [
    "import numpy as np\n",
    "import matplotlib.pyplot as plt"
   ]
  },
  {
   "cell_type": "code",
   "execution_count": 14,
   "id": "a3e7eee3-9a13-4824-9768-2512ba2fa047",
   "metadata": {
    "jupyter": {
     "source_hidden": true
    }
   },
   "outputs": [],
   "source": [
    "# # Helper functions for images.\n",
    "\n",
    "# def show_img(img, ax=None, title=None):\n",
    "#     \"\"\"Shows a single image.\"\"\"\n",
    "#     if ax is None:\n",
    "#         ax = plt.gca()\n",
    "#         ax.imshow(img[..., 0], cmap='gray')\n",
    "#         ax.set_xticks([])\n",
    "#         ax.set_yticks([])\n",
    "#     if title:\n",
    "#         ax.set_title(title)\n",
    "\n",
    "# def show_img_grid(imgs, titles):\n",
    "#     \"\"\"Shows a grid of images.\"\"\"\n",
    "#     n = int(np.ceil(len(imgs)**.5))\n",
    "#     _, axs = plt.subplots(n, n, figsize=(3 * n, 3 * n))\n",
    "#     for i, (img, title) in enumerate(zip(imgs, titles)):\n",
    "#         show_img(img, axs[i // n][i % n], title)"
   ]
  },
  {
   "cell_type": "code",
   "execution_count": 15,
   "id": "2fdcaed8-e255-49dd-a5b9-a4c26b07034f",
   "metadata": {
    "jupyter": {
     "source_hidden": true
    }
   },
   "outputs": [],
   "source": [
    "# show_img_grid(\n",
    "#     [train_ds['image'][idx] for idx in range(25)],\n",
    "#     [f'label={train_ds[\"label\"][idx]}' for idx in range(25)],\n",
    "# )"
   ]
  },
  {
   "cell_type": "code",
   "execution_count": 16,
   "id": "75ea9889-bb75-44d4-b0c3-7064e4dbd37e",
   "metadata": {
    "jupyter": {
     "source_hidden": true
    }
   },
   "outputs": [],
   "source": [
    "# from configs import default as config_lib\n",
    "# config = config_lib.get_config()"
   ]
  },
  {
   "cell_type": "code",
   "execution_count": 17,
   "id": "9df9fd90-2f2f-4b01-a2e1-2365e315be95",
   "metadata": {
    "jupyter": {
     "source_hidden": true
    }
   },
   "outputs": [
    {
     "name": "stderr",
     "output_type": "stream",
     "text": [
      "/home/sunilach/openflenv/lib/python3.8/site-packages/flax/core/scope.py:723: FutureWarning: jax.tree_leaves is deprecated, and will be removed in a future release. Use jax.tree_util.tree_leaves instead.\n",
      "  abs_value_flat = jax.tree_leaves(abs_value)\n",
      "/home/sunilach/openflenv/lib/python3.8/site-packages/flax/core/scope.py:724: FutureWarning: jax.tree_leaves is deprecated, and will be removed in a future release. Use jax.tree_util.tree_leaves instead.\n",
      "  value_flat = jax.tree_leaves(value)\n"
     ]
    }
   ],
   "source": [
    "# config.num_epochs = 3\n",
    "# models = {}\n",
    "# for momentum in (0.8, 0.9, 0.95):\n",
    "#     name = f'momentum={momentum}'\n",
    "#     config.momentum = momentum\n",
    "#     state = train_and_evaluate(config, workdir=f'./models/{name}')\n",
    "#     models[name] = state.params"
   ]
  },
  {
   "cell_type": "code",
   "execution_count": 18,
   "id": "45d5f4b5-54ae-47f3-8cc0-b85e1799d1fd",
   "metadata": {
    "jupyter": {
     "source_hidden": true
    }
   },
   "outputs": [],
   "source": [
    "# # Find all mistakes in testset.\n",
    "# logits = CNN().apply({'params': state.params}, test_ds['image'])\n"
   ]
  },
  {
   "cell_type": "code",
   "execution_count": 19,
   "id": "ff0855f7-b857-4241-adaa-2a3909dd7e67",
   "metadata": {
    "jupyter": {
     "source_hidden": true
    }
   },
   "outputs": [
    {
     "data": {
      "text/plain": [
       "0.0137"
      ]
     },
     "execution_count": 19,
     "metadata": {},
     "output_type": "execute_result"
    }
   ],
   "source": [
    "# error_idxs, = jnp.where(test_ds['label'] != logits.argmax(axis=1))\n",
    "# len(error_idxs) / len(logits)"
   ]
  },
  {
   "cell_type": "code",
   "execution_count": 20,
   "id": "26c5900a-eed3-449d-9187-bd80d5559fe6",
   "metadata": {
    "jupyter": {
     "source_hidden": true
    }
   },
   "outputs": [
    {
     "ename": "NameError",
     "evalue": "name 'show_img_grid' is not defined",
     "output_type": "error",
     "traceback": [
      "\u001b[0;31m---------------------------------------------------------------------------\u001b[0m",
      "\u001b[0;31mNameError\u001b[0m                                 Traceback (most recent call last)",
      "Input \u001b[0;32mIn [20]\u001b[0m, in \u001b[0;36m<cell line: 1>\u001b[0;34m()\u001b[0m\n\u001b[0;32m----> 1\u001b[0m \u001b[43mshow_img_grid\u001b[49m(\n\u001b[1;32m      2\u001b[0m     [test_ds[\u001b[38;5;124m'\u001b[39m\u001b[38;5;124mimage\u001b[39m\u001b[38;5;124m'\u001b[39m][idx] \u001b[38;5;28;01mfor\u001b[39;00m idx \u001b[38;5;129;01min\u001b[39;00m error_idxs[:\u001b[38;5;241m25\u001b[39m]],\n\u001b[1;32m      3\u001b[0m     [\u001b[38;5;124mf\u001b[39m\u001b[38;5;124m'\u001b[39m\u001b[38;5;124mpred=\u001b[39m\u001b[38;5;132;01m{\u001b[39;00mlogits[idx]\u001b[38;5;241m.\u001b[39margmax()\u001b[38;5;132;01m}\u001b[39;00m\u001b[38;5;124m'\u001b[39m \u001b[38;5;28;01mfor\u001b[39;00m idx \u001b[38;5;129;01min\u001b[39;00m error_idxs[:\u001b[38;5;241m25\u001b[39m]],\n\u001b[1;32m      4\u001b[0m )\n",
      "\u001b[0;31mNameError\u001b[0m: name 'show_img_grid' is not defined"
     ]
    }
   ],
   "source": [
    "# show_img_grid(\n",
    "#     [test_ds['image'][idx] for idx in error_idxs[:25]],\n",
    "#     [f'pred={logits[idx].argmax()}' for idx in error_idxs[:25]],\n",
    "# )"
   ]
  },
  {
   "cell_type": "code",
   "execution_count": null,
   "id": "ae3efdfd-1566-4293-840d-d8651a91bb33",
   "metadata": {
    "jupyter": {
     "source_hidden": true
    }
   },
   "outputs": [],
   "source": []
  },
  {
   "cell_type": "code",
   "execution_count": null,
   "id": "7228f042-2167-46e8-a3d3-0edae1366765",
   "metadata": {
    "jupyter": {
     "source_hidden": true
    }
   },
   "outputs": [],
   "source": []
  },
  {
   "cell_type": "code",
   "execution_count": null,
   "id": "36ed86c9-3bbb-4d7d-852d-61a6a1a1e59e",
   "metadata": {
    "jupyter": {
     "source_hidden": true
    }
   },
   "outputs": [],
   "source": []
  },
  {
   "cell_type": "code",
   "execution_count": null,
   "id": "45a0f83e-cdfa-4cf8-9cad-ca542bbe6541",
   "metadata": {
    "jupyter": {
     "source_hidden": true
    }
   },
   "outputs": [],
   "source": []
  },
  {
   "cell_type": "code",
   "execution_count": null,
   "id": "9ed07904-602d-4afd-b3c1-ae58b9c6efa9",
   "metadata": {
    "jupyter": {
     "source_hidden": true
    }
   },
   "outputs": [],
   "source": []
  },
  {
   "cell_type": "code",
   "execution_count": null,
   "id": "36f31f7b-51ed-4054-bb9f-227cb32ab7bb",
   "metadata": {
    "jupyter": {
     "source_hidden": true
    }
   },
   "outputs": [],
   "source": []
  },
  {
   "cell_type": "code",
   "execution_count": null,
   "id": "2cdf9a57-29c4-4787-bbd4-97553187b354",
   "metadata": {
    "jupyter": {
     "source_hidden": true
    }
   },
   "outputs": [],
   "source": [
    "# class LinearRegression:\n",
    "#     def __init__(self, n_feat: int) -> None:\n",
    "#         self.weights = jnp.ones(n_feat)\n",
    "    \n",
    "#     def mse(self, X, y) -> float:\n",
    "#         return mse_loss_function1(self.weights, X, y)\n",
    " \n",
    "#     def predict(self, X):\n",
    "#         return jnp.dot(X, self.weights)\n",
    "    \n",
    "#     def fit(self, X, Y, n_epochs : int, learning_rate : int, silent : bool) -> None:\n",
    "        \n",
    "#         # Speed up weight updates with consecutive calls to jitted `update` function.\n",
    "#         update_weights = jax.jit(update)\n",
    "        \n",
    "#         start_time = time.time()\n",
    "#         print('Training Loss at start: ', self.mse(X, Y))\n",
    "#         for i in range(n_epochs):\n",
    "#             self.weights = update_weights(self.weights, X, Y, learning_rate)\n",
    "#             if i % int(n_epochs/10) == 0 and not silent:\n",
    "#                 print(str(i), 'Training Loss: ', self.mse(X, Y))\n",
    "\n",
    "#         print(\"--- %s seconds ---\" % (time.time() - start_time))\n",
    "\n",
    "    "
   ]
  },
  {
   "cell_type": "code",
   "execution_count": null,
   "id": "cb3cb180-67e4-4053-a940-6a745b2c4290",
   "metadata": {
    "jupyter": {
     "source_hidden": true
    }
   },
   "outputs": [],
   "source": [
    "# _, init_params = CNN().init_by_shape(random.PRNGKey(0), [((1, 32, 32, 3), jnp.float32)])\n",
    "# model = nn.Model(CNN, init_params)\n",
    "# optimizer = optim.Adam(learning_rate=learning_rate, beta1=beta, beta2 = beta_2).create(model)"
   ]
  },
  {
   "cell_type": "markdown",
   "id": "3607c81f-ec04-4c09-9ee8-f5d921d100e9",
   "metadata": {},
   "source": [
    "#Jit Pre-compilation"
   ]
  },
  {
   "cell_type": "code",
   "execution_count": null,
   "id": "6ff7f487-1395-4ece-ac96-e054b21efca7",
   "metadata": {
    "jupyter": {
     "source_hidden": true
    }
   },
   "outputs": [],
   "source": [
    "# train_step(optimizer, train_ds)"
   ]
  },
  {
   "cell_type": "code",
   "execution_count": null,
   "id": "08da6014-7fb3-41b0-bbfa-01b7e5bd1f6a",
   "metadata": {
    "jupyter": {
     "source_hidden": true
    }
   },
   "outputs": [],
   "source": [
    "# eval_model(optimizer.target, test_ds)"
   ]
  },
  {
   "cell_type": "code",
   "execution_count": null,
   "id": "c7bbde3a-0caa-423a-a2b8-783f6e30e906",
   "metadata": {
    "jupyter": {
     "source_hidden": true
    }
   },
   "outputs": [],
   "source": [
    "# def train(train_ds, test_ds, model, optimizer):\n",
    "\n",
    "#     batch_size = 128\n",
    "#     num_epochs = 10\n",
    "#     learning_rate = 0.001\n",
    "#     beta = 0.9\n",
    "#     beta_2 = 0.999\n",
    "#     loss = 0\n",
    "#     accuracy = 0\n",
    "    \n",
    "#     start_time = time.monotonic()\n",
    "    \n",
    "#     for epoch in range(1, num_epochs + 1):\n",
    "#         train_time = 0\n",
    "#         start_time_3 = time.monotonic()\n",
    "#         batch_gen = tfds.as_numpy(train_ds)\n",
    "#         for batch in batch_gen:\n",
    "#             start_time_step = time.monotonic()\n",
    "#             optimizer = train_step(optimizer, batch)\n",
    "#             train_time += time.monotonic() - start_time_step\n",
    "            \n",
    "#         flax_step = time.monotonic() - start_time_3\n",
    "        \n",
    "#         start_time_2 = time.monotonic()\n",
    "#         loss, accuracy = eval_model(optimizer.target, test_ds)\n",
    "#         flax_inf = time.monotonic() - start_time_2\n",
    "        \n",
    "#         print('eval epoch: %d, epoch: %.2fs, actual_training: %.2fs, validation: %.2fs, loss: %.4f, accuracy: %.2f' % \n",
    "#               (epoch, flax_step, train_time, flax_inf, loss, accuracy * 100))\n",
    "        \n",
    "#     flax_time = time.monotonic() - start_time\n",
    "#     return optimizer, flax_time, accuracy, flax_inf"
   ]
  },
  {
   "cell_type": "code",
   "execution_count": null,
   "id": "ecfdb1ee-7a23-4ca2-ade5-f998cd0bfd3f",
   "metadata": {
    "jupyter": {
     "source_hidden": true
    },
    "tags": []
   },
   "outputs": [],
   "source": [
    "# _, flax_time, flax_acc, flax_inf = train(train_ds, test_ds, model, optimizer)"
   ]
  },
  {
   "cell_type": "code",
   "execution_count": null,
   "id": "9b25f87f-1a7a-49c5-a53b-9cb9d06dffd6",
   "metadata": {},
   "outputs": [],
   "source": []
  },
  {
   "cell_type": "markdown",
   "id": "0dafb07a-e0f9-40ec-a491-b058265dec17",
   "metadata": {},
   "source": [
    "NEW IMPLEMENTATION\n"
   ]
  },
  {
   "cell_type": "code",
   "execution_count": 4,
   "id": "c34824f0-8a91-4bc9-b79c-28b3f225dcae",
   "metadata": {},
   "outputs": [],
   "source": [
    "import tensorflow as tf"
   ]
  },
  {
   "cell_type": "code",
   "execution_count": 5,
   "id": "35828c28-4077-427e-96b7-55a773e8c97d",
   "metadata": {},
   "outputs": [],
   "source": [
    "train_ds = tfds.load('cifar10', split=tfds.Split.TRAIN)\n",
    "train_ds = train_ds.map(lambda x: {'image': tf.cast(x['image'], tf.float32) / 255.,\n",
    "                                     'label': tf.cast(x['label'], tf.int32)})\n",
    "train_ds = train_ds.cache().shuffle(1000)\n",
    "tmp_train = train_ds.batch(16)\n",
    "train_ds = train_ds.batch(128)\n",
    "\n",
    "\n",
    "test_ds = tfds.as_numpy(tfds.load(\n",
    "      'cifar10', split=tfds.Split.TEST, batch_size=-1))\n",
    "test_ds = {'image': test_ds['image'].astype(jnp.float32) / 255.,\n",
    "             'label': test_ds['label'].astype(jnp.int32)}"
   ]
  },
  {
   "cell_type": "code",
   "execution_count": 10,
   "id": "c99cf7c3-6dca-42f3-8d02-87cee02c065a",
   "metadata": {},
   "outputs": [
    {
     "name": "stdout",
     "output_type": "stream",
     "text": [
      "{'image': <tf.Tensor: shape=(128, 32, 32, 3), dtype=float32, numpy=\n",
      "array([[[[0.3647059 , 0.41568628, 0.09803922],\n",
      "         [0.4       , 0.4509804 , 0.13333334],\n",
      "         [0.41568628, 0.46666667, 0.15294118],\n",
      "         ...,\n",
      "         [0.40784314, 0.4627451 , 0.13333334],\n",
      "         [0.43137255, 0.47843137, 0.19215687],\n",
      "         [0.43137255, 0.4745098 , 0.2       ]],\n",
      "\n",
      "        [[0.37254903, 0.41960785, 0.11764706],\n",
      "         [0.37254903, 0.41960785, 0.11764706],\n",
      "         [0.39215687, 0.4392157 , 0.14509805],\n",
      "         ...,\n",
      "         [0.39607844, 0.44313726, 0.14509805],\n",
      "         [0.39607844, 0.4392157 , 0.16078432],\n",
      "         [0.4       , 0.44313726, 0.16078432]],\n",
      "\n",
      "        [[0.3882353 , 0.4392157 , 0.13333334],\n",
      "         [0.34117648, 0.39215687, 0.07843138],\n",
      "         [0.37254903, 0.42352942, 0.11372549],\n",
      "         ...,\n",
      "         [0.45490196, 0.5058824 , 0.21176471],\n",
      "         [0.42352942, 0.47058824, 0.18039216],\n",
      "         [0.4       , 0.44705883, 0.14901961]],\n",
      "\n",
      "        ...,\n",
      "\n",
      "        [[0.3529412 , 0.4       , 0.10588235],\n",
      "         [0.4117647 , 0.45490196, 0.18431373],\n",
      "         [0.40392157, 0.4509804 , 0.17254902],\n",
      "         ...,\n",
      "         [0.41960785, 0.4627451 , 0.1764706 ],\n",
      "         [0.4117647 , 0.4509804 , 0.18431373],\n",
      "         [0.3647059 , 0.40784314, 0.13333334]],\n",
      "\n",
      "        [[0.36078432, 0.4117647 , 0.10980392],\n",
      "         [0.3882353 , 0.43137255, 0.16862746],\n",
      "         [0.3764706 , 0.41960785, 0.15294118],\n",
      "         ...,\n",
      "         [0.42745098, 0.4745098 , 0.1764706 ],\n",
      "         [0.39215687, 0.4392157 , 0.14509805],\n",
      "         [0.3882353 , 0.44705883, 0.14509805]],\n",
      "\n",
      "        [[0.34901962, 0.39215687, 0.12941177],\n",
      "         [0.3647059 , 0.4       , 0.17254902],\n",
      "         [0.3529412 , 0.39215687, 0.15686275],\n",
      "         ...,\n",
      "         [0.44313726, 0.48235294, 0.1882353 ],\n",
      "         [0.41568628, 0.45490196, 0.16470589],\n",
      "         [0.40392157, 0.4509804 , 0.15686275]]],\n",
      "\n",
      "\n",
      "       [[[0.6       , 0.44313726, 0.23921569],\n",
      "         [0.4862745 , 0.3647059 , 0.2       ],\n",
      "         [0.45882353, 0.30980393, 0.14117648],\n",
      "         ...,\n",
      "         [0.28235295, 0.15294118, 0.03529412],\n",
      "         [0.27058825, 0.14509805, 0.03137255],\n",
      "         [0.24313726, 0.12156863, 0.02352941]],\n",
      "\n",
      "        [[0.627451  , 0.4862745 , 0.3019608 ],\n",
      "         [0.4862745 , 0.36862746, 0.20784314],\n",
      "         [0.4627451 , 0.30980393, 0.13725491],\n",
      "         ...,\n",
      "         [0.2627451 , 0.13333334, 0.02745098],\n",
      "         [0.2627451 , 0.13725491, 0.03137255],\n",
      "         [0.24705882, 0.1254902 , 0.02745098]],\n",
      "\n",
      "        [[0.5921569 , 0.45882353, 0.2784314 ],\n",
      "         [0.47058824, 0.3647059 , 0.19607843],\n",
      "         [0.4509804 , 0.30980393, 0.14117648],\n",
      "         ...,\n",
      "         [0.25490198, 0.12941177, 0.02352941],\n",
      "         [0.25490198, 0.13725491, 0.02745098],\n",
      "         [0.24705882, 0.13725491, 0.03529412]],\n",
      "\n",
      "        ...,\n",
      "\n",
      "        [[0.09803922, 0.04313726, 0.01568628],\n",
      "         [0.09803922, 0.04705882, 0.01568628],\n",
      "         [0.10196079, 0.04705882, 0.01568628],\n",
      "         ...,\n",
      "         [0.18431373, 0.12156863, 0.07058824],\n",
      "         [0.1764706 , 0.11764706, 0.07058824],\n",
      "         [0.16862746, 0.11372549, 0.07058824]],\n",
      "\n",
      "        [[0.09019608, 0.03921569, 0.01176471],\n",
      "         [0.10588235, 0.05490196, 0.01568628],\n",
      "         [0.10588235, 0.05490196, 0.01568628],\n",
      "         ...,\n",
      "         [0.1882353 , 0.1254902 , 0.07450981],\n",
      "         [0.18039216, 0.12156863, 0.07450981],\n",
      "         [0.16862746, 0.11764706, 0.07450981]],\n",
      "\n",
      "        [[0.09019608, 0.03921569, 0.01176471],\n",
      "         [0.11372549, 0.0627451 , 0.01568628],\n",
      "         [0.10980392, 0.05882353, 0.01960784],\n",
      "         ...,\n",
      "         [0.1882353 , 0.1254902 , 0.07058824],\n",
      "         [0.1764706 , 0.11764706, 0.07058824],\n",
      "         [0.16470589, 0.10588235, 0.06666667]]],\n",
      "\n",
      "\n",
      "       [[[0.83137256, 0.6784314 , 0.5176471 ],\n",
      "         [0.8156863 , 0.69803923, 0.5568628 ],\n",
      "         [0.87058824, 0.7921569 , 0.6901961 ],\n",
      "         ...,\n",
      "         [0.7137255 , 0.84313726, 0.98039216],\n",
      "         [0.7058824 , 0.827451  , 0.9764706 ],\n",
      "         [0.69411767, 0.8235294 , 0.9843137 ]],\n",
      "\n",
      "        [[0.79607844, 0.64705884, 0.5019608 ],\n",
      "         [0.7607843 , 0.5882353 , 0.42745098],\n",
      "         [0.81960785, 0.6509804 , 0.49803922],\n",
      "         ...,\n",
      "         [0.7921569 , 0.8039216 , 0.83137256],\n",
      "         [0.72156864, 0.84705883, 0.9843137 ],\n",
      "         [0.69803923, 0.83137256, 0.9843137 ]],\n",
      "\n",
      "        [[0.72156864, 0.5372549 , 0.46666667],\n",
      "         [0.7921569 , 0.6039216 , 0.4392157 ],\n",
      "         [0.83137256, 0.654902  , 0.4745098 ],\n",
      "         ...,\n",
      "         [0.8509804 , 0.6862745 , 0.5764706 ],\n",
      "         [0.77254903, 0.7411765 , 0.7372549 ],\n",
      "         [0.6901961 , 0.7058824 , 0.74509805]],\n",
      "\n",
      "        ...,\n",
      "\n",
      "        [[0.27058825, 0.32941177, 0.34117648],\n",
      "         [0.28627452, 0.34117648, 0.3647059 ],\n",
      "         [0.30588236, 0.35686275, 0.3882353 ],\n",
      "         ...,\n",
      "         [0.36078432, 0.40392157, 0.4745098 ],\n",
      "         [0.35686275, 0.4       , 0.47058824],\n",
      "         [0.34901962, 0.39215687, 0.46666667]],\n",
      "\n",
      "        [[0.30980393, 0.3764706 , 0.4       ],\n",
      "         [0.32156864, 0.38431373, 0.41568628],\n",
      "         [0.3372549 , 0.4       , 0.4392157 ],\n",
      "         ...,\n",
      "         [0.3647059 , 0.40784314, 0.4745098 ],\n",
      "         [0.36078432, 0.40392157, 0.47058824],\n",
      "         [0.35686275, 0.4       , 0.46666667]],\n",
      "\n",
      "        [[0.33333334, 0.4       , 0.43137255],\n",
      "         [0.34509805, 0.40784314, 0.44313726],\n",
      "         [0.35686275, 0.41960785, 0.45882353],\n",
      "         ...,\n",
      "         [0.3372549 , 0.38431373, 0.4392157 ],\n",
      "         [0.3372549 , 0.38431373, 0.4392157 ],\n",
      "         [0.34117648, 0.3882353 , 0.44313726]]],\n",
      "\n",
      "\n",
      "       ...,\n",
      "\n",
      "\n",
      "       [[[0.5686275 , 0.5568628 , 0.3254902 ],\n",
      "         [0.5686275 , 0.57254905, 0.3137255 ],\n",
      "         [0.53333336, 0.54509807, 0.2901961 ],\n",
      "         ...,\n",
      "         [0.57254905, 0.5803922 , 0.3254902 ],\n",
      "         [0.54901963, 0.56078434, 0.2901961 ],\n",
      "         [0.49803922, 0.5019608 , 0.2627451 ]],\n",
      "\n",
      "        [[0.5686275 , 0.5647059 , 0.38039216],\n",
      "         [0.56078434, 0.5686275 , 0.33333334],\n",
      "         [0.59607846, 0.6039216 , 0.36078432],\n",
      "         ...,\n",
      "         [0.54901963, 0.56078434, 0.29411766],\n",
      "         [0.5411765 , 0.56078434, 0.24705882],\n",
      "         [0.5019608 , 0.5137255 , 0.23137255]],\n",
      "\n",
      "        [[0.52156866, 0.53333336, 0.33333334],\n",
      "         [0.5647059 , 0.5764706 , 0.3372549 ],\n",
      "         [0.60784316, 0.6117647 , 0.36862746],\n",
      "         ...,\n",
      "         [0.52156866, 0.53333336, 0.24705882],\n",
      "         [0.5411765 , 0.56078434, 0.22352941],\n",
      "         [0.5529412 , 0.5686275 , 0.26666668]],\n",
      "\n",
      "        ...,\n",
      "\n",
      "        [[0.30980393, 0.38039216, 0.19215687],\n",
      "         [0.30980393, 0.38431373, 0.1764706 ],\n",
      "         [0.29411766, 0.37254903, 0.15686275],\n",
      "         ...,\n",
      "         [0.28627452, 0.34901962, 0.16862746],\n",
      "         [0.2784314 , 0.34901962, 0.1254902 ],\n",
      "         [0.3254902 , 0.3882353 , 0.17254902]],\n",
      "\n",
      "        [[0.3019608 , 0.3882353 , 0.1882353 ],\n",
      "         [0.29411766, 0.3764706 , 0.18039216],\n",
      "         [0.29411766, 0.3764706 , 0.1882353 ],\n",
      "         ...,\n",
      "         [0.29411766, 0.3529412 , 0.19215687],\n",
      "         [0.28235295, 0.34509805, 0.16078432],\n",
      "         [0.34117648, 0.39607844, 0.21176471]],\n",
      "\n",
      "        [[0.2784314 , 0.36862746, 0.16470589],\n",
      "         [0.30588236, 0.39215687, 0.21568628],\n",
      "         [0.3019608 , 0.38039216, 0.22352941],\n",
      "         ...,\n",
      "         [0.30588236, 0.35686275, 0.20784314],\n",
      "         [0.3019608 , 0.35686275, 0.2       ],\n",
      "         [0.3372549 , 0.38431373, 0.22352941]]],\n",
      "\n",
      "\n",
      "       [[[0.84313726, 0.93333334, 0.60784316],\n",
      "         [0.81960785, 0.9137255 , 0.5686275 ],\n",
      "         [0.827451  , 0.92156863, 0.6       ],\n",
      "         ...,\n",
      "         [0.7921569 , 0.8901961 , 0.5686275 ],\n",
      "         [0.8039216 , 0.9019608 , 0.5529412 ],\n",
      "         [0.69803923, 0.7921569 , 0.49411765]],\n",
      "\n",
      "        [[0.8666667 , 0.9607843 , 0.62352943],\n",
      "         [0.84313726, 0.9372549 , 0.5803922 ],\n",
      "         [0.84705883, 0.9411765 , 0.6117647 ],\n",
      "         ...,\n",
      "         [0.8039216 , 0.9372549 , 0.50980395],\n",
      "         [0.80784315, 0.94509804, 0.5019608 ],\n",
      "         [0.7019608 , 0.8235294 , 0.45490196]],\n",
      "\n",
      "        [[0.88235295, 0.972549  , 0.6745098 ],\n",
      "         [0.85490197, 0.94509804, 0.627451  ],\n",
      "         [0.8666667 , 0.9529412 , 0.6627451 ],\n",
      "         ...,\n",
      "         [0.81960785, 0.95686275, 0.54509807],\n",
      "         [0.8235294 , 0.9607843 , 0.53333336],\n",
      "         [0.7019608 , 0.8235294 , 0.4745098 ]],\n",
      "\n",
      "        ...,\n",
      "\n",
      "        [[0.8352941 , 0.8627451 , 0.74509805],\n",
      "         [0.81960785, 0.84313726, 0.70980394],\n",
      "         [0.85490197, 0.8627451 , 0.74509805],\n",
      "         ...,\n",
      "         [0.31764707, 0.3137255 , 0.21176471],\n",
      "         [0.3019608 , 0.3019608 , 0.2       ],\n",
      "         [0.32941177, 0.3254902 , 0.22352941]],\n",
      "\n",
      "        [[0.64705884, 0.6745098 , 0.5529412 ],\n",
      "         [0.5686275 , 0.5882353 , 0.45490196],\n",
      "         [0.57254905, 0.5803922 , 0.45882353],\n",
      "         ...,\n",
      "         [0.36862746, 0.3647059 , 0.24313726],\n",
      "         [0.40784314, 0.40392157, 0.28235295],\n",
      "         [0.40784314, 0.40392157, 0.28235295]],\n",
      "\n",
      "        [[0.3647059 , 0.39215687, 0.26666668],\n",
      "         [0.3764706 , 0.4       , 0.25882354],\n",
      "         [0.4       , 0.40784314, 0.28235295],\n",
      "         ...,\n",
      "         [0.39215687, 0.39215687, 0.25882354],\n",
      "         [0.41568628, 0.41568628, 0.28627452],\n",
      "         [0.43529412, 0.43529412, 0.3019608 ]]],\n",
      "\n",
      "\n",
      "       [[[0.41960785, 0.39607844, 0.34901962],\n",
      "         [0.42745098, 0.40392157, 0.35686275],\n",
      "         [0.40784314, 0.38431373, 0.3372549 ],\n",
      "         ...,\n",
      "         [0.27058825, 0.17254902, 0.12156863],\n",
      "         [0.5058824 , 0.19215687, 0.14901961],\n",
      "         [0.6509804 , 0.13725491, 0.1254902 ]],\n",
      "\n",
      "        [[0.3882353 , 0.3647059 , 0.31764707],\n",
      "         [0.37254903, 0.34901962, 0.3019608 ],\n",
      "         [0.37254903, 0.34901962, 0.3019608 ],\n",
      "         ...,\n",
      "         [0.22745098, 0.20392157, 0.16470589],\n",
      "         [0.42352942, 0.18039216, 0.15294118],\n",
      "         [0.6784314 , 0.13333334, 0.13725491]],\n",
      "\n",
      "        [[0.36078432, 0.3372549 , 0.28627452],\n",
      "         [0.34901962, 0.3254902 , 0.2784314 ],\n",
      "         [0.34509805, 0.32156864, 0.27450982],\n",
      "         ...,\n",
      "         [0.24705882, 0.23921569, 0.21960784],\n",
      "         [0.45490196, 0.16078432, 0.1764706 ],\n",
      "         [0.69803923, 0.13725491, 0.14509805]],\n",
      "\n",
      "        ...,\n",
      "\n",
      "        [[0.6156863 , 0.60784316, 0.5568628 ],\n",
      "         [0.6117647 , 0.6039216 , 0.5529412 ],\n",
      "         [0.61960787, 0.6117647 , 0.5568628 ],\n",
      "         ...,\n",
      "         [0.42745098, 0.3529412 , 0.36862746],\n",
      "         [0.54509807, 0.22745098, 0.26666668],\n",
      "         [0.63529414, 0.18431373, 0.20392157]],\n",
      "\n",
      "        [[0.6       , 0.5921569 , 0.54509807],\n",
      "         [0.6117647 , 0.6039216 , 0.5568628 ],\n",
      "         [0.6156863 , 0.60784316, 0.56078434],\n",
      "         ...,\n",
      "         [0.4509804 , 0.39215687, 0.39607844],\n",
      "         [0.5058824 , 0.26666668, 0.2901961 ],\n",
      "         [0.5647059 , 0.2784314 , 0.30588236]],\n",
      "\n",
      "        [[0.5882353 , 0.5764706 , 0.54509807],\n",
      "         [0.59607846, 0.58431375, 0.54901963],\n",
      "         [0.6156863 , 0.60784316, 0.57254905],\n",
      "         ...,\n",
      "         [0.47058824, 0.4392157 , 0.43137255],\n",
      "         [0.5176471 , 0.37254903, 0.3882353 ],\n",
      "         [0.5254902 , 0.3882353 , 0.41568628]]]], dtype=float32)>, 'label': <tf.Tensor: shape=(128,), dtype=int32, numpy=\n",
      "array([0, 7, 9, 8, 6, 9, 9, 3, 4, 1, 1, 2, 6, 3, 1, 4, 0, 2, 0, 9, 5, 5,\n",
      "       0, 2, 0, 1, 9, 5, 0, 8, 5, 2, 4, 3, 2, 5, 5, 4, 9, 5, 1, 6, 1, 2,\n",
      "       9, 0, 1, 0, 0, 8, 1, 2, 6, 4, 4, 0, 2, 5, 9, 9, 2, 1, 7, 5, 5, 4,\n",
      "       9, 6, 7, 5, 4, 9, 2, 1, 5, 0, 6, 0, 6, 8, 4, 1, 8, 3, 3, 5, 2, 8,\n",
      "       8, 5, 7, 8, 2, 0, 9, 0, 5, 7, 0, 6, 0, 8, 1, 0, 6, 4, 5, 3, 3, 2,\n",
      "       4, 8, 7, 7, 0, 4, 0, 0, 7, 1, 8, 7, 6, 5, 2, 2, 2, 5], dtype=int32)>}\n"
     ]
    }
   ],
   "source": [
    "print(list(train_ds)[0])"
   ]
  },
  {
   "cell_type": "code",
   "execution_count": 11,
   "id": "9c9c19e4-8cfe-4ee6-94f7-c68716ab0a08",
   "metadata": {},
   "outputs": [],
   "source": [
    "class CNN(nn.Module):\n",
    "    def apply(self, x):\n",
    "        x = nn.Conv(features=32, kernel_size=(3, 3))(x)\n",
    "        x = nn.relu(x)\n",
    "        x = nn.avg_pool(x, window_shape=(2, 2), strides=(2, 2))\n",
    "        x = nn.Conv(features=64, kernel_size=(3, 3))(x)\n",
    "        x = nn.relu(x)\n",
    "        x = nn.avg_pool(x, window_shape=(2, 2), strides=(2, 2))\n",
    "        x = x.reshape((x.shape[0], -1))  # flatten\n",
    "        x = nn.Dense(features=256)(x)\n",
    "        x = nn.relu(x)\n",
    "        x = nn.Dense(features=10)(x)\n",
    "        x = nn.log_softmax(x)\n",
    "        return x"
   ]
  },
  {
   "cell_type": "code",
   "execution_count": 12,
   "id": "b99a50ad-8182-427d-84a6-cb5e228992d5",
   "metadata": {},
   "outputs": [],
   "source": [
    "def onehot(labels, num_classes=10):\n",
    "    return (labels[..., None] == jnp.arange(num_classes)[None]).astype(jnp.float32)\n",
    "\n",
    "def cross_entropy_loss(preds, labels):\n",
    "    return -jnp.mean(jnp.sum(onehot(labels) * preds, axis=-1))\n",
    "#We could also implement it for single element and vectorize later with vmap\n",
    "\n",
    "def compute_metrics(preds, labels):\n",
    "    return {'loss': cross_entropy_loss(preds, labels),\n",
    "            'accuracy': jnp.mean(jnp.argmax(preds, -1) == labels)}"
   ]
  },
  {
   "cell_type": "code",
   "execution_count": 13,
   "id": "bf166248-a25c-4900-9a43-c3e9c5248908",
   "metadata": {},
   "outputs": [],
   "source": [
    "#Using jit decorator for GPU acceleration for entire function\n",
    "@jax.jit\n",
    "def train_step(optimizer, batch):\n",
    "    def loss_fn(model):\n",
    "        preds = model(batch['image'])\n",
    "        loss = cross_entropy_loss(preds, batch['label'])\n",
    "        return loss, preds\n",
    "    grad_fn = jax.value_and_grad(loss_fn, has_aux=True)\n",
    "    (_, preds), grad = grad_fn(optimizer.target)\n",
    "    optimizer = optimizer.apply_gradient(grad)\n",
    "    return optimizer\n",
    "\n",
    "@jax.jit\n",
    "def eval_step(model, batch):\n",
    "    preds = model(batch['image'])\n",
    "    return compute_metrics(preds, batch['label'])\n",
    "\n",
    "def eval_model(model, test_ds):\n",
    "    metrics = eval_step(model, test_ds)\n",
    "    metrics = jax.device_get(metrics)\n",
    "    summary = jax.tree_map(lambda x: x.item(), metrics)\n",
    "    return summary['loss'], summary['accuracy']"
   ]
  },
  {
   "cell_type": "code",
   "execution_count": 14,
   "id": "7404111a-b226-4dfc-8787-a9d36a91bcaa",
   "metadata": {},
   "outputs": [],
   "source": [
    "learning_rate = 0.001\n",
    "beta = 0.9\n",
    "beta_2 = 0.999"
   ]
  },
  {
   "cell_type": "code",
   "execution_count": 16,
   "id": "c300add4-44d8-4768-85d8-fa801d6eafdc",
   "metadata": {},
   "outputs": [
    {
     "ename": "AttributeError",
     "evalue": "\"CNN\" object has no attribute \"init_by_shape\"",
     "output_type": "error",
     "traceback": [
      "\u001b[0;31m---------------------------------------------------------------------------\u001b[0m",
      "\u001b[0;31mAttributeError\u001b[0m                            Traceback (most recent call last)",
      "Input \u001b[0;32mIn [16]\u001b[0m, in \u001b[0;36m<cell line: 1>\u001b[0;34m()\u001b[0m\n\u001b[0;32m----> 1\u001b[0m _, init_params \u001b[38;5;241m=\u001b[39m \u001b[43mCNN\u001b[49m\u001b[43m(\u001b[49m\u001b[43m)\u001b[49m\u001b[38;5;241;43m.\u001b[39;49m\u001b[43minit_by_shape\u001b[49m(random\u001b[38;5;241m.\u001b[39mPRNGKey(\u001b[38;5;241m0\u001b[39m), [((\u001b[38;5;241m1\u001b[39m, \u001b[38;5;241m32\u001b[39m, \u001b[38;5;241m32\u001b[39m, \u001b[38;5;241m3\u001b[39m), jnp\u001b[38;5;241m.\u001b[39mfloat32)])\n\u001b[1;32m      2\u001b[0m model \u001b[38;5;241m=\u001b[39m nn\u001b[38;5;241m.\u001b[39mModel(CNN, init_params)\n\u001b[1;32m      3\u001b[0m optimizer \u001b[38;5;241m=\u001b[39m optim\u001b[38;5;241m.\u001b[39mAdam(learning_rate\u001b[38;5;241m=\u001b[39mlearning_rate, beta1\u001b[38;5;241m=\u001b[39mbeta, beta2 \u001b[38;5;241m=\u001b[39m beta_2)\u001b[38;5;241m.\u001b[39mcreate(model)\n",
      "File \u001b[0;32m~/openflenv/lib/python3.8/site-packages/flax/linen/module.py:723\u001b[0m, in \u001b[0;36mModule.__getattr__\u001b[0;34m(self, name)\u001b[0m\n\u001b[1;32m    721\u001b[0m   \u001b[38;5;28;01mreturn\u001b[39;00m \u001b[38;5;28mself\u001b[39m\u001b[38;5;241m.\u001b[39m\u001b[38;5;18m__dict__\u001b[39m[name]\n\u001b[1;32m    722\u001b[0m \u001b[38;5;28;01melse\u001b[39;00m:\n\u001b[0;32m--> 723\u001b[0m   \u001b[38;5;28;01mraise\u001b[39;00m \u001b[38;5;167;01mAttributeError\u001b[39;00m(\n\u001b[1;32m    724\u001b[0m       \u001b[38;5;124mf\u001b[39m\u001b[38;5;124m'\u001b[39m\u001b[38;5;124m\"\u001b[39m\u001b[38;5;132;01m{\u001b[39;00m\u001b[38;5;28mself\u001b[39m\u001b[38;5;241m.\u001b[39m\u001b[38;5;18m__class__\u001b[39m\u001b[38;5;241m.\u001b[39m\u001b[38;5;18m__name__\u001b[39m\u001b[38;5;132;01m}\u001b[39;00m\u001b[38;5;124m\"\u001b[39m\u001b[38;5;124m object has no attribute \u001b[39m\u001b[38;5;124m\"\u001b[39m\u001b[38;5;132;01m{\u001b[39;00mname\u001b[38;5;132;01m}\u001b[39;00m\u001b[38;5;124m\"\u001b[39m\u001b[38;5;124m'\u001b[39m)\n",
      "\u001b[0;31mAttributeError\u001b[0m: \"CNN\" object has no attribute \"init_by_shape\""
     ]
    }
   ],
   "source": [
    "_, init_params = CNN.init_by_shape(random.PRNGKey(0), [((1, 32, 32, 3), jnp.float32)])\n",
    "model = nn.Model(CNN, init_params)\n",
    "optimizer = optim.Adam(learning_rate=learning_rate, beta1=beta, beta2 = beta_2).create(model)"
   ]
  },
  {
   "cell_type": "code",
   "execution_count": null,
   "id": "4de7c7b0-fe4f-4644-96ef-5202f05ae88f",
   "metadata": {},
   "outputs": [],
   "source": [
    "#jit pre-compilation    \n",
    "start_mini = time.monotonic()\n",
    "train_step(optimizer, mini_batch)\n",
    "mini_time = time.monotonic() - start_mini\n",
    "print('mini_batch training: %.2fs' % mini_time)\n",
    "    \n",
    "start_mini_2 = time.monotonic()\n",
    "eval_model(optimizer.target, test_ds)\n",
    "mini_val_time = time.monotonic() - start_mini_2\n",
    "print('mini_batch validation: %.2fs' % mini_val_time)"
   ]
  },
  {
   "cell_type": "code",
   "execution_count": null,
   "id": "82351d99-d00d-44a1-ac0d-9eb02f233839",
   "metadata": {},
   "outputs": [],
   "source": [
    "#Mini-batch after compilation\n",
    "start_mini = time.monotonic()\n",
    "train_step(optimizer, mini_batch)\n",
    "mini_time = time.monotonic() - start_mini\n",
    "print('mini_batch training: %.2fs' % mini_time)\n",
    "    \n",
    "start_mini_2 = time.monotonic()\n",
    "eval_model(optimizer.target, test_ds)\n",
    "mini_val_time = time.monotonic() - start_mini_2\n",
    "print('mini_batch validation: %.2fs' % mini_val_time)"
   ]
  },
  {
   "cell_type": "code",
   "execution_count": null,
   "id": "53990378-4948-4842-9b3a-7514c3c7e052",
   "metadata": {},
   "outputs": [],
   "source": [
    "def train(train_ds, test_ds, model, optimizer):\n",
    "\n",
    "    batch_size = 128\n",
    "    num_epochs = 10\n",
    "    learning_rate = 0.001\n",
    "    beta = 0.9\n",
    "    beta_2 = 0.999\n",
    "    loss = 0\n",
    "    accuracy = 0\n",
    "    \n",
    "    start_time = time.monotonic()\n",
    "    \n",
    "    for epoch in range(1, num_epochs + 1):\n",
    "        train_time = 0\n",
    "        start_time_3 = time.monotonic()\n",
    "        batch_gen = tfds.as_numpy(train_ds)\n",
    "        for batch in batch_gen:\n",
    "            start_time_step = time.monotonic()\n",
    "            optimizer = train_step(optimizer, batch)\n",
    "            train_time += time.monotonic() - start_time_step\n",
    "            \n",
    "        flax_step = time.monotonic() - start_time_3\n",
    "        \n",
    "        start_time_2 = time.monotonic()\n",
    "        loss, accuracy = eval_model(optimizer.target, test_ds)\n",
    "        flax_inf = time.monotonic() - start_time_2\n",
    "        \n",
    "        print('eval epoch: %d, epoch: %.2fs, actual_training: %.2fs, validation: %.2fs, loss: %.4f, accuracy: %.2f' % \n",
    "              (epoch, flax_step, train_time, flax_inf, loss, accuracy * 100))\n",
    "        \n",
    "    flax_time = time.monotonic() - start_time\n",
    "    return optimizer, flax_time, accuracy, flax_inf"
   ]
  },
  {
   "cell_type": "code",
   "execution_count": null,
   "id": "f6c64062-3887-4303-a783-61e3568f8878",
   "metadata": {},
   "outputs": [],
   "source": [
    "_, flax_time, flax_acc, flax_inf = train(train_ds, test_ds, model, optimizer)\n"
   ]
  },
  {
   "cell_type": "markdown",
   "id": "ffd4d2d7-5537-496a-88c1-301da87d979c",
   "metadata": {
    "tags": []
   },
   "source": [
    "# JAX Linear Regression with federation"
   ]
  },
  {
   "cell_type": "markdown",
   "id": "09cf7090-da51-4f4e-9d28-2a5c6e3bca02",
   "metadata": {
    "tags": []
   },
   "source": [
    "## Connect to a Federation"
   ]
  },
  {
   "cell_type": "code",
   "execution_count": null,
   "id": "1b3c0039-e1f7-4047-b98b-a2d4bd42f015",
   "metadata": {},
   "outputs": [],
   "source": [
    "# Create a federation\n",
    "from openfl.interface.interactive_api.federation import Federation\n",
    "\n",
    "# please use the same identificator that was used in signed certificate\n",
    "client_id = 'frontend'\n",
    "director_node_fqdn = 'localhost'\n",
    "director_port = 50050\n",
    "\n",
    "federation = Federation(\n",
    "    client_id=client_id,\n",
    "    director_node_fqdn=director_node_fqdn,\n",
    "    director_port=director_port,\n",
    "    tls=False\n",
    ")"
   ]
  },
  {
   "cell_type": "code",
   "execution_count": null,
   "id": "7815120e-b704-4a7d-a65a-3c7542023ead",
   "metadata": {
    "tags": []
   },
   "outputs": [],
   "source": [
    "shard_registry = federation.get_shard_registry()\n",
    "shard_registry"
   ]
  },
  {
   "cell_type": "markdown",
   "id": "b011dd95-64a7-4a8b-91ec-e61cdf885bbb",
   "metadata": {},
   "source": [
    "### Initialize Data Interface"
   ]
  },
  {
   "cell_type": "code",
   "execution_count": null,
   "id": "b1985ac9-a2b1-4561-a962-6adfe35c3b97",
   "metadata": {},
   "outputs": [],
   "source": [
    "from openfl.interface.interactive_api.experiment import TaskInterface, DataInterface, ModelInterface, FLExperiment\n",
    "\n",
    "class LinearRegressionDataSet(DataInterface):\n",
    "    def __init__(self, **kwargs):\n",
    "        \"\"\"Initialize DataLoader.\"\"\"\n",
    "        self.kwargs = kwargs\n",
    "\n",
    "    @property\n",
    "    def shard_descriptor(self):\n",
    "        \"\"\"Return shard descriptor.\"\"\"\n",
    "        return self._shard_descriptor\n",
    "    \n",
    "    @shard_descriptor.setter\n",
    "    def shard_descriptor(self, shard_descriptor):\n",
    "        \"\"\"\n",
    "        Describe per-collaborator procedures or sharding.\n",
    "        \n",
    "        This method will be called during a collaborator initialization.\n",
    "        Local shard_descriptor  will be set by Envoy.\n",
    "        \"\"\"\n",
    "        self._shard_descriptor = shard_descriptor\n",
    "        self.train_set = shard_descriptor.get_dataset('train')\n",
    "        self.val_set = shard_descriptor.get_dataset('val')\n",
    "        \n",
    "    def get_train_loader(self, **kwargs):\n",
    "        \"\"\"Output of this method will be provided to tasks with optimizer in contract.\"\"\"\n",
    "        return self.train_set\n",
    "\n",
    "    def get_valid_loader(self, **kwargs):\n",
    "        \"\"\"Output of this method will be provided to tasks without optimizer in contract.\"\"\"\n",
    "        return self.val_set\n",
    "\n",
    "    def get_train_data_size(self):\n",
    "        \"\"\"Information for aggregation.\"\"\"\n",
    "        return len(self.train_set)\n",
    "\n",
    "    def get_valid_data_size(self):\n",
    "        \"\"\"Information for aggregation.\"\"\"\n",
    "        return len(self.val_set)\n",
    "    \n",
    "lin_reg_dataset = LinearRegressionDataSet()"
   ]
  },
  {
   "cell_type": "markdown",
   "id": "b8909127-99d1-4dba-86fe-01a1b86585e7",
   "metadata": {},
   "source": [
    "### Define Model Interface"
   ]
  },
  {
   "cell_type": "code",
   "execution_count": null,
   "id": "9523c9a2-a259-461f-937f-1fb054bd2886",
   "metadata": {},
   "outputs": [],
   "source": [
    "framework_adapter = 'custom_adapter.CustomFrameworkAdapter'\n",
    "\n",
    "# LinearRegression class accepts a parameter n_features. Should be same as `sample_shape` from `director_config.yaml`\n",
    "fed_model = LinearRegression(1)\n",
    "MI = ModelInterface(model=fed_model, optimizer=None, framework_plugin=framework_adapter)\n",
    "\n",
    "# Save the initial model state\n",
    "initial_model = LinearRegression(1)"
   ]
  },
  {
   "cell_type": "markdown",
   "id": "2e3558bb-b21b-48ac-b07e-43cf75e6907b",
   "metadata": {},
   "source": [
    "### Register Tasks\n",
    "We need to employ a trick reporting metrics. OpenFL decides which model is the best based on an *increasing* metric."
   ]
  },
  {
   "cell_type": "code",
   "execution_count": null,
   "id": "f73e1ff9-d54a-49b5-9ce8-8bc72c6a2c6f",
   "metadata": {},
   "outputs": [],
   "source": [
    "TI = TaskInterface()\n",
    "\n",
    "@TI.add_kwargs(**{'lr': 0.01,\n",
    "                   'epochs': 101})\n",
    "@TI.register_fl_task(model='my_model', data_loader='train_data', \\\n",
    "                     device='device', optimizer='optimizer')     \n",
    "def train(my_model, train_data, optimizer, device, lr, epochs):\n",
    "    X, Y = train_data[:,:-1], train_data[:,-1]\n",
    "    my_model.fit(X, Y, epochs, lr, silent=False)\n",
    "    return {'train_MSE': my_model.mse(X, Y),}\n",
    "\n",
    "@TI.register_fl_task(model='my_model', data_loader='val_data', device='device')\n",
    "def validate(my_model, val_data, device):\n",
    "    X, Y = val_data[:,:-1], val_data[:,-1] \n",
    "    return {'validation_MSE': my_model.mse(X, Y),}"
   ]
  },
  {
   "cell_type": "markdown",
   "id": "ee7659cc-6e03-43f5-9078-95707fa0e4d5",
   "metadata": {
    "tags": []
   },
   "source": [
    "### Run the federation"
   ]
  },
  {
   "cell_type": "code",
   "execution_count": null,
   "id": "749100e8-05ce-418c-a980-545e3beb900b",
   "metadata": {},
   "outputs": [],
   "source": [
    "experiment_name = 'jax_linear_regression_experiment'\n",
    "fl_experiment = FLExperiment(federation=federation, experiment_name=experiment_name)"
   ]
  },
  {
   "cell_type": "code",
   "execution_count": null,
   "id": "16bf1df7-8ca8-4a5e-a833-47c265c11e05",
   "metadata": {},
   "outputs": [],
   "source": [
    "fl_experiment.start(model_provider=MI,\n",
    "                    task_keeper=TI,\n",
    "                    data_loader=lin_reg_dataset,\n",
    "                    rounds_to_train=2)"
   ]
  },
  {
   "cell_type": "code",
   "execution_count": null,
   "id": "1178d1ea-05e6-46be-ac07-21620bd6ec76",
   "metadata": {
    "tags": []
   },
   "outputs": [],
   "source": [
    "fl_experiment.stream_metrics()"
   ]
  },
  {
   "cell_type": "markdown",
   "id": "6f23cac5-caec-4161-b4b2-dddceb3eab80",
   "metadata": {
    "tags": []
   },
   "source": [
    "# JAX Linear Regression without federation (Optional Simulation)"
   ]
  },
  {
   "cell_type": "code",
   "execution_count": null,
   "id": "94be17d7-90c9-4e5f-aeb1-102271826370",
   "metadata": {},
   "outputs": [],
   "source": [
    "!pip install matplotlib scikit-learn -q"
   ]
  },
  {
   "cell_type": "code",
   "execution_count": null,
   "id": "3f5ced27-a808-4eca-be6e-d8b62929f32b",
   "metadata": {
    "tags": []
   },
   "outputs": [],
   "source": [
    "# Imports for running JAX Linear Regression example without OpenFL.\n",
    "\n",
    "import matplotlib.pyplot as plt\n",
    "\n",
    "%matplotlib inline\n",
    "from matplotlib.pylab import rcParams\n",
    "rcParams['figure.figsize'] = 7, 5\n",
    "\n",
    "from jax import make_jaxpr\n",
    "from sklearn.datasets import make_regression\n",
    "from sklearn.model_selection import train_test_split"
   ]
  },
  {
   "cell_type": "markdown",
   "id": "58128c30-7865-4412-b4fd-86b0fe53f1a7",
   "metadata": {
    "tags": []
   },
   "source": [
    "#### Simple Linear Regression\n",
    "<img src=\"https://www.analyticsvidhya.com/wp-content/uploads/2016/01/eq5-1.png\" width=\"500\">\n",
    "\n"
   ]
  },
  {
   "cell_type": "code",
   "execution_count": null,
   "id": "140705fc-4af3-4668-a26b-2ebe2d42575e",
   "metadata": {
    "tags": []
   },
   "outputs": [],
   "source": [
    "# create a dataset with n_features\n",
    "X, y = make_regression(n_samples=100, n_features=1, noise=10, random_state=42)\n",
    "\n",
    "# Train test split - Default 0.75/0.25\n",
    "X, X_test, y, y_test = train_test_split(X, y, random_state=42)"
   ]
  },
  {
   "cell_type": "markdown",
   "id": "a2665d0b-78ce-4caf-a4ca-a9decffaa96f",
   "metadata": {},
   "source": [
    "Visualize data distribution"
   ]
  },
  {
   "cell_type": "code",
   "execution_count": null,
   "id": "68f5afbf-e010-4d4a-bb92-46de06d39866",
   "metadata": {
    "tags": []
   },
   "outputs": [],
   "source": [
    "_ = plt.scatter(X, y)"
   ]
  },
  {
   "cell_type": "code",
   "execution_count": null,
   "id": "ebe555dd-9e8d-4e80-bfde-87e3cafac14c",
   "metadata": {
    "tags": []
   },
   "outputs": [],
   "source": [
    "_ = plt.scatter(X_test, y_test)"
   ]
  },
  {
   "cell_type": "code",
   "execution_count": null,
   "id": "68a7ddb3-166e-447f-a8f1-881511cfbd9f",
   "metadata": {
    "tags": []
   },
   "outputs": [],
   "source": [
    "# JAX logical execution plan\n",
    "print(jax.make_jaxpr(update)(jnp.ones(X.shape[1]), X, y, 0.01))"
   ]
  },
  {
   "cell_type": "code",
   "execution_count": null,
   "id": "574bac29-b5c2-4f41-8655-e98450fdef8d",
   "metadata": {
    "tags": []
   },
   "outputs": [],
   "source": [
    "# X.shape -> (n_samples, n_features)\n",
    "\n",
    "lr_model = LinearRegression(X.shape[1])\n",
    "lr = 0.01\n",
    "epochs = 101\n",
    "\n",
    "print(f\"Initial Test MSE: {lr_model.mse(X_test,y_test)}\")\n",
    "\n",
    "# silent: logging verbosity\n",
    "lr_model.fit(X,y, epochs, lr, silent=False)\n",
    "\n",
    "print(f\"Final Test MSE: {lr_model.mse(X_test,y_test)}\")\n",
    "\n",
    "print(f\"Final parameters: {lr_model.weights}\")"
   ]
  }
 ],
 "metadata": {
  "kernelspec": {
   "display_name": "Python 3.8.10 ('openflenv')",
   "language": "python",
   "name": "python3"
  },
  "language_info": {
   "codemirror_mode": {
    "name": "ipython",
    "version": 3
   },
   "file_extension": ".py",
   "mimetype": "text/x-python",
   "name": "python",
   "nbconvert_exporter": "python",
   "pygments_lexer": "ipython3",
   "version": "3.8.10"
  },
  "vscode": {
   "interpreter": {
    "hash": "b06d1b655d4d5fbe90b113436047673f65880809b3fc5b52db1ddd0c49488bf8"
   }
  }
 },
 "nbformat": 4,
 "nbformat_minor": 5
}
